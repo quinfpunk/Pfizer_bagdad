{
 "cells": [
  {
   "cell_type": "code",
   "execution_count": 4,
   "metadata": {},
   "outputs": [],
   "source": [
    "import ortools\n",
    "from ortools.init.python import init\n",
    "from ortools.linear_solver import pywraplp\n",
    "import pandas as pd\n",
    "import numpy as np"
   ]
  },
  {
   "cell_type": "markdown",
   "metadata": {},
   "source": [
    "# 0. Data import and solver set up"
   ]
  },
  {
   "cell_type": "code",
   "execution_count": 5,
   "metadata": {},
   "outputs": [
    {
     "name": "stdout",
     "output_type": "stream",
     "text": [
      "Shape of distances dataset :  (22, 4)\n"
     ]
    },
    {
     "data": {
      "text/html": [
       "<div>\n",
       "<style scoped>\n",
       "    .dataframe tbody tr th:only-of-type {\n",
       "        vertical-align: middle;\n",
       "    }\n",
       "\n",
       "    .dataframe tbody tr th {\n",
       "        vertical-align: top;\n",
       "    }\n",
       "\n",
       "    .dataframe thead th {\n",
       "        text-align: right;\n",
       "    }\n",
       "</style>\n",
       "<table border=\"1\" class=\"dataframe\">\n",
       "  <thead>\n",
       "    <tr style=\"text-align: right;\">\n",
       "      <th></th>\n",
       "      <th>1</th>\n",
       "      <th>2</th>\n",
       "      <th>3</th>\n",
       "      <th>4</th>\n",
       "    </tr>\n",
       "  </thead>\n",
       "  <tbody>\n",
       "    <tr>\n",
       "      <th>1</th>\n",
       "      <td>16.16</td>\n",
       "      <td>24.08</td>\n",
       "      <td>24.32</td>\n",
       "      <td>21.12</td>\n",
       "    </tr>\n",
       "    <tr>\n",
       "      <th>2</th>\n",
       "      <td>19.00</td>\n",
       "      <td>26.47</td>\n",
       "      <td>27.24</td>\n",
       "      <td>17.33</td>\n",
       "    </tr>\n",
       "    <tr>\n",
       "      <th>3</th>\n",
       "      <td>25.29</td>\n",
       "      <td>32.49</td>\n",
       "      <td>33.42</td>\n",
       "      <td>12.25</td>\n",
       "    </tr>\n",
       "    <tr>\n",
       "      <th>4</th>\n",
       "      <td>0.00</td>\n",
       "      <td>7.93</td>\n",
       "      <td>8.31</td>\n",
       "      <td>36.12</td>\n",
       "    </tr>\n",
       "    <tr>\n",
       "      <th>5</th>\n",
       "      <td>3.07</td>\n",
       "      <td>6.44</td>\n",
       "      <td>7.56</td>\n",
       "      <td>37.37</td>\n",
       "    </tr>\n",
       "  </tbody>\n",
       "</table>\n",
       "</div>"
      ],
      "text/plain": [
       "       1      2      3      4\n",
       "1  16.16  24.08  24.32  21.12\n",
       "2  19.00  26.47  27.24  17.33\n",
       "3  25.29  32.49  33.42  12.25\n",
       "4   0.00   7.93   8.31  36.12\n",
       "5   3.07   6.44   7.56  37.37"
      ]
     },
     "metadata": {},
     "output_type": "display_data"
    },
    {
     "name": "stdout",
     "output_type": "stream",
     "text": [
      "Shape of indexValues dataset :  (22, 1)\n"
     ]
    },
    {
     "data": {
      "text/html": [
       "<div>\n",
       "<style scoped>\n",
       "    .dataframe tbody tr th:only-of-type {\n",
       "        vertical-align: middle;\n",
       "    }\n",
       "\n",
       "    .dataframe tbody tr th {\n",
       "        vertical-align: top;\n",
       "    }\n",
       "\n",
       "    .dataframe thead th {\n",
       "        text-align: right;\n",
       "    }\n",
       "</style>\n",
       "<table border=\"1\" class=\"dataframe\">\n",
       "  <thead>\n",
       "    <tr style=\"text-align: right;\">\n",
       "      <th></th>\n",
       "      <th>indexValue</th>\n",
       "    </tr>\n",
       "  </thead>\n",
       "  <tbody>\n",
       "    <tr>\n",
       "      <th>0</th>\n",
       "      <td>0.1609</td>\n",
       "    </tr>\n",
       "    <tr>\n",
       "      <th>1</th>\n",
       "      <td>0.1164</td>\n",
       "    </tr>\n",
       "    <tr>\n",
       "      <th>2</th>\n",
       "      <td>0.1026</td>\n",
       "    </tr>\n",
       "    <tr>\n",
       "      <th>3</th>\n",
       "      <td>0.1516</td>\n",
       "    </tr>\n",
       "    <tr>\n",
       "      <th>4</th>\n",
       "      <td>0.0939</td>\n",
       "    </tr>\n",
       "  </tbody>\n",
       "</table>\n",
       "</div>"
      ],
      "text/plain": [
       "   indexValue\n",
       "0      0.1609\n",
       "1      0.1164\n",
       "2      0.1026\n",
       "3      0.1516\n",
       "4      0.0939"
      ]
     },
     "metadata": {},
     "output_type": "display_data"
    },
    {
     "name": "stdout",
     "output_type": "stream",
     "text": [
      "Shape of x' dataset :  (22, 4)\n"
     ]
    },
    {
     "data": {
      "text/html": [
       "<div>\n",
       "<style scoped>\n",
       "    .dataframe tbody tr th:only-of-type {\n",
       "        vertical-align: middle;\n",
       "    }\n",
       "\n",
       "    .dataframe tbody tr th {\n",
       "        vertical-align: top;\n",
       "    }\n",
       "\n",
       "    .dataframe thead th {\n",
       "        text-align: right;\n",
       "    }\n",
       "</style>\n",
       "<table border=\"1\" class=\"dataframe\">\n",
       "  <thead>\n",
       "    <tr style=\"text-align: right;\">\n",
       "      <th></th>\n",
       "      <th>1</th>\n",
       "      <th>2</th>\n",
       "      <th>3</th>\n",
       "      <th>4</th>\n",
       "    </tr>\n",
       "    <tr>\n",
       "      <th>x'ij</th>\n",
       "      <th></th>\n",
       "      <th></th>\n",
       "      <th></th>\n",
       "      <th></th>\n",
       "    </tr>\n",
       "  </thead>\n",
       "  <tbody>\n",
       "    <tr>\n",
       "      <th>1</th>\n",
       "      <td>0</td>\n",
       "      <td>0</td>\n",
       "      <td>0</td>\n",
       "      <td>1</td>\n",
       "    </tr>\n",
       "    <tr>\n",
       "      <th>2</th>\n",
       "      <td>0</td>\n",
       "      <td>0</td>\n",
       "      <td>0</td>\n",
       "      <td>1</td>\n",
       "    </tr>\n",
       "    <tr>\n",
       "      <th>3</th>\n",
       "      <td>0</td>\n",
       "      <td>0</td>\n",
       "      <td>0</td>\n",
       "      <td>1</td>\n",
       "    </tr>\n",
       "    <tr>\n",
       "      <th>4</th>\n",
       "      <td>1</td>\n",
       "      <td>0</td>\n",
       "      <td>0</td>\n",
       "      <td>0</td>\n",
       "    </tr>\n",
       "    <tr>\n",
       "      <th>5</th>\n",
       "      <td>1</td>\n",
       "      <td>0</td>\n",
       "      <td>0</td>\n",
       "      <td>0</td>\n",
       "    </tr>\n",
       "  </tbody>\n",
       "</table>\n",
       "</div>"
      ],
      "text/plain": [
       "      1  2  3  4\n",
       "x'ij            \n",
       "1     0  0  0  1\n",
       "2     0  0  0  1\n",
       "3     0  0  0  1\n",
       "4     1  0  0  0\n",
       "5     1  0  0  0"
      ]
     },
     "metadata": {},
     "output_type": "display_data"
    }
   ],
   "source": [
    "distances = pd.read_excel('distances.xlsx', index_col=0, skiprows=1, usecols=range(1, 6))\n",
    "print(\"Shape of distances dataset : \",distances.shape)\n",
    "display(distances.head())\n",
    "index_values = pd.read_excel('indexValues.xlsx', header=None, names=[\"indexValue\"], usecols=[1])\n",
    "print(\"Shape of indexValues dataset : \",index_values.shape)\n",
    "display(index_values.head())\n",
    "x_origin = pd.read_excel('x_origin.xlsx', index_col=0,skiprows=1, usecols=range(1, 6))\n",
    "print(\"Shape of x' dataset : \",x_origin.shape)\n",
    "display(x_origin.head())"
   ]
  },
  {
   "cell_type": "code",
   "execution_count": 6,
   "metadata": {},
   "outputs": [],
   "source": [
    "# Initialize solver\n",
    "solver = pywraplp.Solver.CreateSolver('SCIP')"
   ]
  },
  {
   "cell_type": "markdown",
   "metadata": {},
   "source": [
    "# 1. Variables"
   ]
  },
  {
   "cell_type": "code",
   "execution_count": 7,
   "metadata": {},
   "outputs": [
    {
     "name": "stdout",
     "output_type": "stream",
     "text": [
      "Number of brics :  22\n",
      "Number of SR :  4\n"
     ]
    }
   ],
   "source": [
    "num_bricks = len(index_values)\n",
    "num_sr = len(distances.columns)\n",
    "penalty_constant = 10 \n",
    "\n",
    "# Decision variables\n",
    "# assignment[i][j] = 1 if brick i is assigned to SR j\n",
    "assignment = [[solver.BoolVar(f'assignment_{i}_{j}') for j in range(num_sr)] for i in range(num_bricks)]\n",
    "\n",
    "print(\"Number of brics : \", num_bricks)\n",
    "print(\"Number of SR : \", num_sr)"
   ]
  },
  {
   "cell_type": "markdown",
   "metadata": {},
   "source": [
    "# 2. Constraints"
   ]
  },
  {
   "cell_type": "code",
   "execution_count": 8,
   "metadata": {},
   "outputs": [],
   "source": [
    "# 1. Each brick is assigned to exactly one SR\n",
    "for i in range(num_bricks):\n",
    "    solver.Add(sum(assignment[i][j] for j in range(num_sr)) == 1)\n",
    "\n",
    "# 2. Weight constraints for each SR (total weight between 0.8 and 1.2)\n",
    "for j in range(num_sr):\n",
    "    total_weight = solver.Sum(assignment[i][j] * index_values.iloc[i,0] for i in range(num_bricks))\n",
    "    solver.Add(total_weight >= 0.8)\n",
    "    solver.Add(total_weight <= 1.2)"
   ]
  },
  {
   "cell_type": "markdown",
   "metadata": {},
   "source": [
    "# 3. Objective functions"
   ]
  },
  {
   "cell_type": "code",
   "execution_count": 9,
   "metadata": {},
   "outputs": [],
   "source": [
    "# Objective function: minimize weighted distance + weight-based disruption penalty\n",
    "\n",
    "objective = solver.Objective()\n",
    "for i in range(num_bricks):\n",
    "    for j in range(num_sr):\n",
    "        # Weighted distance cost\n",
    "        distance_cost = distances.iloc[i,j] * index_values.iloc[i,0]\n",
    "        \n",
    "        # Disruption penalty if reassigned to a different SR\n",
    "        if (i + 1) in x_origin and x_origin.iloc[i + 1,0] != j + 1:\n",
    "            disruption_penalty = penalty_constant * index_values.iloc[i,0]\n",
    "        else:\n",
    "            disruption_penalty = 0\n",
    "\n",
    "        # Total cost for assigning brick i to SR j\n",
    "        total_cost = distance_cost + disruption_penalty\n",
    "        objective.SetCoefficient(assignment[i][j], total_cost)\n",
    "\n",
    "objective.SetMinimization()"
   ]
  },
  {
   "cell_type": "markdown",
   "metadata": {},
   "source": [
    "# 4. Solve"
   ]
  },
  {
   "cell_type": "code",
   "execution_count": 10,
   "metadata": {},
   "outputs": [
    {
     "name": "stdout",
     "output_type": "stream",
     "text": [
      "Solution found:\n",
      "SR 1 total weight is 1.02 / total distances is 35.92 / assigned bricks are [3, 4, 5, 6, 7, 8, 18, 20]\n",
      "SR 2 total weight is 1.04 / total distances is 7.53 / assigned bricks are [10, 12, 13, 17]\n",
      "SR 3 total weight is 1.11 / total distances is 6.57 / assigned bricks are [9, 14, 15, 16]\n",
      "SR 4 total weight is 0.82 / total distances is 113.77 / assigned bricks are [0, 1, 2, 11, 19, 21]\n",
      "Sum of weighted distance: 144.785327\n",
      "Optimal Objective Value: 23.123659999999997\n"
     ]
    }
   ],
   "source": [
    "# Solve the problem\n",
    "status = solver.Solve()\n",
    "\n",
    "# Print results\n",
    "if status == pywraplp.Solver.OPTIMAL:\n",
    "    print('Solution found:')\n",
    "    # Initialize lists to store weights and distances per SR\n",
    "    sr_weights = [0.0] * num_sr\n",
    "    sr_distances = [0.0] * num_sr\n",
    "\n",
    "    for j in range(num_sr):\n",
    "        sr_bricks = []\n",
    "        for i in range(num_bricks):\n",
    "            if assignment[i][j].solution_value() > 0.5:\n",
    "                sr_weights[j] += index_values.iloc[i,0]\n",
    "                sr_distances[j] += distances.iloc[i,j]\n",
    "                sr_bricks.append(i)\n",
    "        print(f\"SR {j+1} total weight is {round(sr_weights[j],2)} / total distances is {round(sr_distances[j],2)} / assigned bricks are {sr_bricks}\")\n",
    "    # Calculate the sum of (sum of weights per SR * sum of distances per SR)\n",
    "    total_weighted_distance = sum(sr_weights[j] * sr_distances[j] for j in range(num_sr))\n",
    "    \n",
    "    print('Sum of weighted distance:', total_weighted_distance)\n",
    "    print('Optimal Objective Value:', objective.Value())\n",
    "else:\n",
    "    print('No optimal solution found.')"
   ]
  }
 ],
 "metadata": {
  "kernelspec": {
   "display_name": "Python 3",
   "language": "python",
   "name": "python3"
  },
  "language_info": {
   "codemirror_mode": {
    "name": "ipython",
    "version": 3
   },
   "file_extension": ".py",
   "mimetype": "text/x-python",
   "name": "python",
   "nbconvert_exporter": "python",
   "pygments_lexer": "ipython3",
   "version": "3.11.9"
  }
 },
 "nbformat": 4,
 "nbformat_minor": 2
}
