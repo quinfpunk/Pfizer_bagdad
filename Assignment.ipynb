{
 "cells": [
  {
   "cell_type": "code",
   "execution_count": 101,
   "metadata": {},
   "outputs": [],
   "source": [
    "import ortools\n",
    "from ortools.init.python import init\n",
    "from ortools.linear_solver import pywraplp\n",
    "import pandas as pd\n",
    "import numpy as np"
   ]
  },
  {
   "cell_type": "markdown",
   "metadata": {},
   "source": [
    "# 0. Data import and solver set up"
   ]
  },
  {
   "cell_type": "code",
   "execution_count": 102,
   "metadata": {},
   "outputs": [
    {
     "name": "stdout",
     "output_type": "stream",
     "text": [
      "Shape of distances dataset :  (22, 4)\n"
     ]
    },
    {
     "data": {
      "text/html": [
       "<div>\n",
       "<style scoped>\n",
       "    .dataframe tbody tr th:only-of-type {\n",
       "        vertical-align: middle;\n",
       "    }\n",
       "\n",
       "    .dataframe tbody tr th {\n",
       "        vertical-align: top;\n",
       "    }\n",
       "\n",
       "    .dataframe thead th {\n",
       "        text-align: right;\n",
       "    }\n",
       "</style>\n",
       "<table border=\"1\" class=\"dataframe\">\n",
       "  <thead>\n",
       "    <tr style=\"text-align: right;\">\n",
       "      <th></th>\n",
       "      <th>1</th>\n",
       "      <th>2</th>\n",
       "      <th>3</th>\n",
       "      <th>4</th>\n",
       "    </tr>\n",
       "  </thead>\n",
       "  <tbody>\n",
       "    <tr>\n",
       "      <th>1</th>\n",
       "      <td>16.16</td>\n",
       "      <td>24.08</td>\n",
       "      <td>24.32</td>\n",
       "      <td>21.12</td>\n",
       "    </tr>\n",
       "    <tr>\n",
       "      <th>2</th>\n",
       "      <td>19.00</td>\n",
       "      <td>26.47</td>\n",
       "      <td>27.24</td>\n",
       "      <td>17.33</td>\n",
       "    </tr>\n",
       "    <tr>\n",
       "      <th>3</th>\n",
       "      <td>25.29</td>\n",
       "      <td>32.49</td>\n",
       "      <td>33.42</td>\n",
       "      <td>12.25</td>\n",
       "    </tr>\n",
       "    <tr>\n",
       "      <th>4</th>\n",
       "      <td>0.00</td>\n",
       "      <td>7.93</td>\n",
       "      <td>8.31</td>\n",
       "      <td>36.12</td>\n",
       "    </tr>\n",
       "    <tr>\n",
       "      <th>5</th>\n",
       "      <td>3.07</td>\n",
       "      <td>6.44</td>\n",
       "      <td>7.56</td>\n",
       "      <td>37.37</td>\n",
       "    </tr>\n",
       "  </tbody>\n",
       "</table>\n",
       "</div>"
      ],
      "text/plain": [
       "       1      2      3      4\n",
       "1  16.16  24.08  24.32  21.12\n",
       "2  19.00  26.47  27.24  17.33\n",
       "3  25.29  32.49  33.42  12.25\n",
       "4   0.00   7.93   8.31  36.12\n",
       "5   3.07   6.44   7.56  37.37"
      ]
     },
     "metadata": {},
     "output_type": "display_data"
    },
    {
     "name": "stdout",
     "output_type": "stream",
     "text": [
      "Shape of indexValues dataset :  (22, 1)\n"
     ]
    },
    {
     "data": {
      "text/html": [
       "<div>\n",
       "<style scoped>\n",
       "    .dataframe tbody tr th:only-of-type {\n",
       "        vertical-align: middle;\n",
       "    }\n",
       "\n",
       "    .dataframe tbody tr th {\n",
       "        vertical-align: top;\n",
       "    }\n",
       "\n",
       "    .dataframe thead th {\n",
       "        text-align: right;\n",
       "    }\n",
       "</style>\n",
       "<table border=\"1\" class=\"dataframe\">\n",
       "  <thead>\n",
       "    <tr style=\"text-align: right;\">\n",
       "      <th></th>\n",
       "      <th>indexValue</th>\n",
       "    </tr>\n",
       "  </thead>\n",
       "  <tbody>\n",
       "    <tr>\n",
       "      <th>0</th>\n",
       "      <td>0.1609</td>\n",
       "    </tr>\n",
       "    <tr>\n",
       "      <th>1</th>\n",
       "      <td>0.1164</td>\n",
       "    </tr>\n",
       "    <tr>\n",
       "      <th>2</th>\n",
       "      <td>0.1026</td>\n",
       "    </tr>\n",
       "    <tr>\n",
       "      <th>3</th>\n",
       "      <td>0.1516</td>\n",
       "    </tr>\n",
       "    <tr>\n",
       "      <th>4</th>\n",
       "      <td>0.0939</td>\n",
       "    </tr>\n",
       "  </tbody>\n",
       "</table>\n",
       "</div>"
      ],
      "text/plain": [
       "   indexValue\n",
       "0      0.1609\n",
       "1      0.1164\n",
       "2      0.1026\n",
       "3      0.1516\n",
       "4      0.0939"
      ]
     },
     "metadata": {},
     "output_type": "display_data"
    },
    {
     "name": "stdout",
     "output_type": "stream",
     "text": [
      "Shape of x' dataset :  (22, 4)\n"
     ]
    },
    {
     "data": {
      "text/html": [
       "<div>\n",
       "<style scoped>\n",
       "    .dataframe tbody tr th:only-of-type {\n",
       "        vertical-align: middle;\n",
       "    }\n",
       "\n",
       "    .dataframe tbody tr th {\n",
       "        vertical-align: top;\n",
       "    }\n",
       "\n",
       "    .dataframe thead th {\n",
       "        text-align: right;\n",
       "    }\n",
       "</style>\n",
       "<table border=\"1\" class=\"dataframe\">\n",
       "  <thead>\n",
       "    <tr style=\"text-align: right;\">\n",
       "      <th></th>\n",
       "      <th>1</th>\n",
       "      <th>2</th>\n",
       "      <th>3</th>\n",
       "      <th>4</th>\n",
       "    </tr>\n",
       "    <tr>\n",
       "      <th>x'ij</th>\n",
       "      <th></th>\n",
       "      <th></th>\n",
       "      <th></th>\n",
       "      <th></th>\n",
       "    </tr>\n",
       "  </thead>\n",
       "  <tbody>\n",
       "    <tr>\n",
       "      <th>1</th>\n",
       "      <td>0</td>\n",
       "      <td>0</td>\n",
       "      <td>0</td>\n",
       "      <td>1</td>\n",
       "    </tr>\n",
       "    <tr>\n",
       "      <th>2</th>\n",
       "      <td>0</td>\n",
       "      <td>0</td>\n",
       "      <td>0</td>\n",
       "      <td>1</td>\n",
       "    </tr>\n",
       "    <tr>\n",
       "      <th>3</th>\n",
       "      <td>0</td>\n",
       "      <td>0</td>\n",
       "      <td>0</td>\n",
       "      <td>1</td>\n",
       "    </tr>\n",
       "    <tr>\n",
       "      <th>4</th>\n",
       "      <td>1</td>\n",
       "      <td>0</td>\n",
       "      <td>0</td>\n",
       "      <td>0</td>\n",
       "    </tr>\n",
       "    <tr>\n",
       "      <th>5</th>\n",
       "      <td>1</td>\n",
       "      <td>0</td>\n",
       "      <td>0</td>\n",
       "      <td>0</td>\n",
       "    </tr>\n",
       "  </tbody>\n",
       "</table>\n",
       "</div>"
      ],
      "text/plain": [
       "      1  2  3  4\n",
       "x'ij            \n",
       "1     0  0  0  1\n",
       "2     0  0  0  1\n",
       "3     0  0  0  1\n",
       "4     1  0  0  0\n",
       "5     1  0  0  0"
      ]
     },
     "metadata": {},
     "output_type": "display_data"
    }
   ],
   "source": [
    "distances = pd.read_excel('distances.xlsx', index_col=0, skiprows=1, usecols=range(1, 6))\n",
    "print(\"Shape of distances dataset : \",distances.shape)\n",
    "display(distances.head())\n",
    "index_values = pd.read_excel('indexValues.xlsx', header=None, names=[\"indexValue\"], usecols=[1])\n",
    "print(\"Shape of indexValues dataset : \",index_values.shape)\n",
    "display(index_values.head())\n",
    "x_origin = pd.read_excel('x_origin.xlsx', index_col=0,skiprows=1, usecols=range(1, 6))\n",
    "print(\"Shape of x' dataset : \",x_origin.shape)\n",
    "display(x_origin.head())"
   ]
  },
  {
   "cell_type": "markdown",
   "metadata": {},
   "source": [
    "# 1. Variables"
   ]
  },
  {
   "cell_type": "code",
   "execution_count": 103,
   "metadata": {},
   "outputs": [],
   "source": [
    "def set_variables(index_values,distances):\n",
    "    num_bricks = len(index_values)\n",
    "    num_sr = len(distances.columns)\n",
    "\n",
    "    # Initialize solver\n",
    "    solver = pywraplp.Solver.CreateSolver('SCIP')\n",
    "    # Decision variables\n",
    "    # assignment[i][j] = 1 if brick i is assigned to SR j\n",
    "    assignment = [[solver.BoolVar(f'assignment_{i}_{j}') for j in range(num_sr)] for i in range(num_bricks)]\n",
    "\n",
    "    print(\"Number of brics : \", num_bricks)\n",
    "    print(\"Number of SR : \", num_sr)\n",
    "    return solver, assignment, num_bricks, num_sr"
   ]
  },
  {
   "cell_type": "markdown",
   "metadata": {},
   "source": [
    "# 2. Constraints"
   ]
  },
  {
   "cell_type": "code",
   "execution_count": 104,
   "metadata": {},
   "outputs": [],
   "source": [
    "def constraint_assignment_bricks(solver, assignment, num_bricks, num_sr, nb_sr_to_assign):\n",
    "    for i in range(num_bricks):\n",
    "        solver.Add(sum(assignment[i][j] for j in range(num_sr)) >= 1)\n",
    "        solver.Add(sum(assignment[i][j] for j in range(num_sr)) <= nb_sr_to_assign)\n",
    "\n",
    "def constraint_max_sum_weights_sr(solver, assignment, num_bricks, num_sr, condition_interval):\n",
    "    for j in range(num_sr):\n",
    "        total_weight = solver.Sum(assignment[i][j] * index_values.iloc[i,0] for i in range(num_bricks))\n",
    "        solver.Add(total_weight >= min(condition_interval))\n",
    "        solver.Add(total_weight <= max(condition_interval))\n",
    "\n",
    "def apply_constraints(solver, assignment, index_values, num_bricks, num_sr, condition_interval, nb_sr_to_assign):\n",
    "    # 1. Each brick is assigned to exactly nb_sr_to_assign SR\n",
    "    constraint_assignment_bricks(solver, assignment, num_bricks, num_sr,  nb_sr_to_assign)\n",
    "\n",
    "    # 2. Weight constraints for each SR (total weight between born_inf and born_sup)\n",
    "    constraint_max_sum_weights_sr(solver, assignment, num_bricks, num_sr, condition_interval)"
   ]
  },
  {
   "cell_type": "markdown",
   "metadata": {},
   "source": [
    "# 3. Objective functions"
   ]
  },
  {
   "cell_type": "code",
   "execution_count": 105,
   "metadata": {},
   "outputs": [],
   "source": [
    "# Objective function: minimize weighted distance + weight-based disruption penalty\n",
    "def get_objective_function(solver, assignment, x_origin, num_bricks, num_sr, penalty_constant):\n",
    "    objective = solver.Objective()\n",
    "    for i in range(num_bricks):\n",
    "        for j in range(num_sr):\n",
    "            # Weighted distance cost\n",
    "            distance_cost = distances.iloc[i,j]\n",
    "            \n",
    "            # Disruption penalty if reassigned to a different SR\n",
    "            if (i + 1) in x_origin and x_origin.iloc[i + 1,0] != j + 1:\n",
    "                disruption_penalty = penalty_constant * index_values.iloc[i,0]\n",
    "            else:\n",
    "                disruption_penalty = 0\n",
    "\n",
    "            # Total cost for assigning brick i to SR j\n",
    "            total_cost = distance_cost + disruption_penalty\n",
    "            objective.SetCoefficient(assignment[i][j], total_cost)\n",
    "\n",
    "    objective.SetMinimization()\n",
    "\n",
    "    return objective"
   ]
  },
  {
   "cell_type": "markdown",
   "metadata": {},
   "source": [
    "# 4. Solve"
   ]
  },
  {
   "cell_type": "code",
   "execution_count": 106,
   "metadata": {},
   "outputs": [],
   "source": [
    "def get_stats(assignment, num_sr, num_bricks, objective):\n",
    "    sr_weights = [0.0] * num_sr\n",
    "    sr_distances = [0.0] * num_sr\n",
    "    for j in range(num_sr):\n",
    "        sr_bricks = []\n",
    "        for i in range(num_bricks):\n",
    "            if assignment[i][j].solution_value() > 0.5:\n",
    "                sr_weights[j] += index_values.iloc[i,0]\n",
    "                sr_distances[j] += distances.iloc[i,j]\n",
    "                sr_bricks.append(i)\n",
    "        print(f\"SR {j+1} total weight is {round(sr_weights[j],2)} / total distances is {round(sr_distances[j],2)} / assigned bricks are {sr_bricks}\")\n",
    "    # Calculate the sum of (sum of weights per SR * sum of distances per SR)\n",
    "    total_distances = sum(sr_distances)\n",
    "    total_weighted_distance = sum(sr_weights[j] * sr_distances[j] for j in range(num_sr))\n",
    "    print('Sum of distances:', total_distances)\n",
    "    print('Sum of weighted distances:', total_weighted_distance)\n",
    "    print('Optimal Objective Value:', objective.Value())\n",
    "    \n",
    "def solve_print(solver, assignment, objective, num_bricks, num_sr):\n",
    "    # Solve the problem\n",
    "    status = solver.Solve()\n",
    "    # Print results\n",
    "    if status == pywraplp.Solver.OPTIMAL:\n",
    "        print('Solution found:')\n",
    "        get_stats(assignment, num_sr, num_bricks, objective)\n",
    "        \n",
    "    else:\n",
    "        print('No optimal solution found.')\n"
   ]
  },
  {
   "cell_type": "markdown",
   "metadata": {},
   "source": [
    "# 5. Get Results"
   ]
  },
  {
   "cell_type": "code",
   "execution_count": 107,
   "metadata": {},
   "outputs": [],
   "source": [
    "def get_results(distances,index_values, nb_sr_to_assign, condition_interval, penalty_constant):\n",
    "    solver, assignment, num_bricks, num_sr = set_variables(index_values,distances)\n",
    "    apply_constraints(solver, assignment, index_values, num_bricks, num_sr, condition_interval, nb_sr_to_assign)\n",
    "    objective = get_objective_function(solver, assignment, x_origin, num_bricks, num_sr, penalty_constant)\n",
    "    solve_print(solver, assignment, objective, num_bricks, num_sr)"
   ]
  },
  {
   "cell_type": "code",
   "execution_count": 108,
   "metadata": {},
   "outputs": [
    {
     "name": "stdout",
     "output_type": "stream",
     "text": [
      "Number of brics :  22\n",
      "Number of SR :  4\n",
      "Solution found:\n",
      "SR 1 total weight is 1.04 / total distances is 64.37 / assigned bricks are [3, 4, 5, 6, 7, 8, 11, 18, 19]\n",
      "SR 2 total weight is 1.04 / total distances is 7.53 / assigned bricks are [10, 12, 13, 17]\n",
      "SR 3 total weight is 1.11 / total distances is 6.57 / assigned bricks are [9, 14, 15, 16]\n",
      "SR 4 total weight is 0.8 / total distances is 76.13 / assigned bricks are [0, 1, 2, 20, 21]\n",
      "Sum of distances: 154.6\n",
      "Sum of weighted distances: 143.09896\n",
      "Optimal Objective Value: 158.39900000000003\n"
     ]
    }
   ],
   "source": [
    "condition_interval = [0.8,1.2]\n",
    "penalty_constant = 10\n",
    "nb_sr_to_assign = 1\n",
    "get_results(distances, index_values, nb_sr_to_assign, condition_interval,penalty_constant)"
   ]
  },
  {
   "cell_type": "markdown",
   "metadata": {},
   "source": [
    "# 6. Questions"
   ]
  },
  {
   "cell_type": "markdown",
   "metadata": {},
   "source": [
    "### 6.1. Do the obtained solutions have properties that are worth bringing to the attention of the decision maker?"
   ]
  },
  {
   "cell_type": "markdown",
   "metadata": {},
   "source": [
    "- **Total Weighted Distance**: The solution has a total weighted distance of approximately 143.1. This metric helps the decision maker understand the overall efficiency and cost of the current SR (Sales Representatives) allocation.\n",
    "\n",
    "- **Weight Balance**: Each SR has a total weight within the constraint interval (between 0.8 and 1.2), indicating a balanced workload. SRs 1, 2, and 3 are near the upper limit, while SR 4 is close to the minimum requirement.\n",
    "\n",
    "- **Distance Distribution**: SRs 1 and 4 have significantly higher total distances (64.37 and 76.13 respectively) compared to SRs 2 and 3 (7.53 and 6.57). This suggests that SRs 1 and 4 cover more geographically dispersed bricks, which may imply higher travel times or costs.\n",
    "\n",
    "- **Assignment of Bricks**: SRs are assigned a varied number of bricks, with SR 1 covering nine bricks while SR 2, 3, and 4 cover fewer. This indicates that some SRs may face higher workload concentration in certain areas, which could impact operational efficiency.\n",
    "\n",
    "- **Assignment distruption**: good metric to evaluate how much changes we have between each assignment"
   ]
  },
  {
   "cell_type": "markdown",
   "metadata": {},
   "source": [
    "### 6.2. Discuss the properties of the current solution in comparison to other solutions obtained."
   ]
  },
  {
   "cell_type": "markdown",
   "metadata": {},
   "source": [
    "- **Workload Distribution**: Compared to other solutions where the workload might not be as evenly distributed, this solution appears to have achieved a balance across SRs, ensuring that no SR is overwhelmed by an excessive workload.\n",
    "\n",
    "- **Distance Optimization**: By minimizing the weighted distance, this solution achieves a relatively low-cost allocation. However, if there are alternate solutions with slightly higher costs but more balanced distances across SRs, these could be considered for improved efficiency.\n",
    "\n",
    "- **Disruption Penalty**: This solution minimizes reassignment of bricks compared to the origin (x_origin) due to the disruption penalty applied. This minimizes costs associated with changing SR responsibilities."
   ]
  },
  {
   "cell_type": "markdown",
   "metadata": {},
   "source": [
    "### 6.3. Varying workload is currently an objective taken into account in the form of constraints. We can get different sets of effective solutions and tradeoffs with other goals by tightening and relaxing this constraint. Try at least one interval and discuss the result (you can use [0.9, 1.1])"
   ]
  },
  {
   "cell_type": "code",
   "execution_count": 109,
   "metadata": {},
   "outputs": [
    {
     "name": "stdout",
     "output_type": "stream",
     "text": [
      "Number of brics :  22\n",
      "Number of SR :  4\n",
      "Solution found:\n",
      "SR 1 total weight is 0.94 / total distances is 46.88 / assigned bricks are [3, 4, 5, 6, 7, 8, 11, 18]\n",
      "SR 2 total weight is 1.07 / total distances is 9.22 / assigned bricks are [10, 12, 13, 16]\n",
      "SR 3 total weight is 1.09 / total distances is 6.99 / assigned bricks are [9, 14, 15, 17]\n",
      "SR 4 total weight is 0.9 / total distances is 99.34 / assigned bricks are [0, 1, 2, 19, 20, 21]\n",
      "Sum of distances: 162.43\n",
      "Sum of weighted distances: 151.111496\n",
      "Optimal Objective Value: 166.22899999999996\n"
     ]
    }
   ],
   "source": [
    "condition_interval = [0.9,1.1]\n",
    "penalty_constant = 10\n",
    "nb_sr_to_assign = 1\n",
    "get_results(distances, index_values, nb_sr_to_assign, condition_interval,penalty_constant)"
   ]
  },
  {
   "cell_type": "markdown",
   "metadata": {},
   "source": [
    "SRs that were previously assigned workloads close to the upper and lower limits (like SR 4) will likely be forced to take on additional bricks or reduce their assigned bricks, shifting assignments more uniformly across SRs.\n",
    "This tighter constraint increases the total weighted distance since the model has fewer assignment options to minimize cost. If the workload becomes more balanced, some SRs may cover fewer distances overall, while others may need to take on more, resulting in a trade-off between cost and balanced distribution."
   ]
  },
  {
   "cell_type": "markdown",
   "metadata": {},
   "source": [
    "### 6.4. How to model the case for partially assigning bricks (i.e. assign a brick to multiple SR)? Implement this and compare the results."
   ]
  },
  {
   "cell_type": "code",
   "execution_count": 110,
   "metadata": {},
   "outputs": [
    {
     "name": "stdout",
     "output_type": "stream",
     "text": [
      "NUMBER OF MAX ASSIGNMENT POSSIBLE PER BRICK: 1\n",
      "Number of brics :  22\n",
      "Number of SR :  4\n",
      "Solution found:\n",
      "SR 1 total weight is 1.04 / total distances is 64.37 / assigned bricks are [3, 4, 5, 6, 7, 8, 11, 18, 19]\n",
      "SR 2 total weight is 1.04 / total distances is 7.53 / assigned bricks are [10, 12, 13, 17]\n",
      "SR 3 total weight is 1.11 / total distances is 6.57 / assigned bricks are [9, 14, 15, 16]\n",
      "SR 4 total weight is 0.8 / total distances is 76.13 / assigned bricks are [0, 1, 2, 20, 21]\n",
      "Sum of distances: 154.6\n",
      "Sum of weighted distances: 143.09896\n",
      "Optimal Objective Value: 158.39900000000003\n",
      "----------------------------------------------------------------------------------------------------\n",
      "NUMBER OF MAX ASSIGNMENT POSSIBLE PER BRICK: 2\n",
      "Number of brics :  22\n",
      "Number of SR :  4\n",
      "Solution found:\n",
      "SR 1 total weight is 1.04 / total distances is 64.37 / assigned bricks are [3, 4, 5, 6, 7, 8, 11, 18, 19]\n",
      "SR 2 total weight is 1.04 / total distances is 7.53 / assigned bricks are [10, 12, 13, 17]\n",
      "SR 3 total weight is 1.11 / total distances is 6.57 / assigned bricks are [9, 14, 15, 16]\n",
      "SR 4 total weight is 0.8 / total distances is 76.13 / assigned bricks are [0, 1, 2, 20, 21]\n",
      "Sum of distances: 154.6\n",
      "Sum of weighted distances: 143.09896\n",
      "Optimal Objective Value: 158.39899999999997\n",
      "----------------------------------------------------------------------------------------------------\n",
      "NUMBER OF MAX ASSIGNMENT POSSIBLE PER BRICK: 3\n",
      "Number of brics :  22\n",
      "Number of SR :  4\n",
      "Solution found:\n",
      "SR 1 total weight is 1.04 / total distances is 64.37 / assigned bricks are [3, 4, 5, 6, 7, 8, 11, 18, 19]\n",
      "SR 2 total weight is 1.04 / total distances is 7.53 / assigned bricks are [10, 12, 13, 17]\n",
      "SR 3 total weight is 1.11 / total distances is 6.57 / assigned bricks are [9, 14, 15, 16]\n",
      "SR 4 total weight is 0.8 / total distances is 76.13 / assigned bricks are [0, 1, 2, 20, 21]\n",
      "Sum of distances: 154.6\n",
      "Sum of weighted distances: 143.09896\n",
      "Optimal Objective Value: 158.39899999999997\n",
      "----------------------------------------------------------------------------------------------------\n",
      "NUMBER OF MAX ASSIGNMENT POSSIBLE PER BRICK: 4\n",
      "Number of brics :  22\n",
      "Number of SR :  4\n",
      "Solution found:\n",
      "SR 1 total weight is 1.04 / total distances is 64.37 / assigned bricks are [3, 4, 5, 6, 7, 8, 11, 18, 19]\n",
      "SR 2 total weight is 1.04 / total distances is 7.53 / assigned bricks are [10, 12, 13, 17]\n",
      "SR 3 total weight is 1.11 / total distances is 6.57 / assigned bricks are [9, 14, 15, 16]\n",
      "SR 4 total weight is 0.8 / total distances is 76.13 / assigned bricks are [0, 1, 2, 20, 21]\n",
      "Sum of distances: 154.6\n",
      "Sum of weighted distances: 143.09896\n",
      "Optimal Objective Value: 158.39899999999997\n",
      "----------------------------------------------------------------------------------------------------\n"
     ]
    }
   ],
   "source": [
    "for i in range(1,len(distances.columns)+1):\n",
    "    condition_interval = [0.8,1.2]\n",
    "    penalty_constant = 10\n",
    "    nb_sr_to_assign = i\n",
    "    print(f\"NUMBER OF MAX ASSIGNMENT POSSIBLE PER BRICK: {i}\")\n",
    "    get_results(distances, index_values, nb_sr_to_assign, condition_interval,penalty_constant)\n",
    "    print('-'*100)"
   ]
  },
  {
   "cell_type": "markdown",
   "metadata": {},
   "source": [
    "### 6.5.  If the demand increases uniformly in all bricks (for example + 20%, it may be necessary to hire a new sales representative. There is the question of where to locate his office (center brig)"
   ]
  },
  {
   "cell_type": "markdown",
   "metadata": {},
   "source": [
    "PS: To optimize the SR’s location, calculate the geographical center (average coordinates) of the bricks assigned to existing SRs with the heaviest demand.\n",
    "Potential Adjustments: Redistribute bricks so that the additional SR takes on part of the workload, aiming to balance distances and demand while minimizing total weighted distance."
   ]
  },
  {
   "cell_type": "markdown",
   "metadata": {},
   "source": [
    "### 6.6.  The location of the \"center bricks\" (SR offices) has a significant impact on the distance traveled by the SRs. An important question is to generalize the model so as to allow a modification of the \"center bricks\"; this requires considering additional binary variables. (It should be noted that some of the bricks are not good candidates as a \"center brig\", which makes it possible to reduce the number of variables)."
   ]
  },
  {
   "cell_type": "markdown",
   "metadata": {},
   "source": [
    "To generalize the model by allowing SR office relocations, we have to:\n",
    "\n",
    "- **Add Binary Variables**: Introduce binary variables to indicate the selection of certain bricks as new SR centers. Not all bricks are candidates, so restrict the variable to a subset of bricks that are potential centers.\n",
    "\n",
    "- **Objective Function Adjustment**: Incorporate the distances from each brick to the selected SR centers, modifying the objective to minimize both weighted distance and potential disruption penalties due to reassignment. With this the model can adapt dynamically to changes in demand and geography by choosing optimal SR office locations, potentially lowering travel distances and improving response times.\n",
    "\n",
    "Each modification builds on the initial model to address different logistical scenarios, improving operational efficiency under changing conditions."
   ]
  },
  {
   "cell_type": "markdown",
   "metadata": {},
   "source": [
    "### 6.7  How to incorporate in the model the SRs' preferences for their area?"
   ]
  },
  {
   "cell_type": "markdown",
   "metadata": {},
   "source": [
    "To incorporate SRs' area preferences, we could add:\n",
    "\n",
    "- **Preference Penalty in Objective Function**: Add a penalty to the objective for assignments that do not match SRs’ preferences, encouraging alignment without imposing hard constraints.\n",
    "\n",
    "- **Weighted Assignments**: Assign weights to bricks based on SRs' preferences, prioritizing preferred areas."
   ]
  }
 ],
 "metadata": {
  "kernelspec": {
   "display_name": "Python 3",
   "language": "python",
   "name": "python3"
  },
  "language_info": {
   "codemirror_mode": {
    "name": "ipython",
    "version": 3
   },
   "file_extension": ".py",
   "mimetype": "text/x-python",
   "name": "python",
   "nbconvert_exporter": "python",
   "pygments_lexer": "ipython3",
   "version": "3.11.9"
  }
 },
 "nbformat": 4,
 "nbformat_minor": 2
}
