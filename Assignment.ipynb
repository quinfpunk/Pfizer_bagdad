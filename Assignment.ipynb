{
 "cells": [
  {
   "cell_type": "code",
   "execution_count": 1153,
   "metadata": {},
   "outputs": [],
   "source": [
    "import ortools\n",
    "from ortools.init.python import init\n",
    "from ortools.linear_solver import pywraplp\n",
    "import pandas as pd\n",
    "import numpy as np"
   ]
  },
  {
   "attachments": {},
   "cell_type": "markdown",
   "metadata": {},
   "source": [
    "# 0. Data import and solver set up"
   ]
  },
  {
   "cell_type": "code",
   "execution_count": 1154,
   "metadata": {},
   "outputs": [
    {
     "name": "stdout",
     "output_type": "stream",
     "text": [
      "Shape of distances dataset :  (22, 4)\n"
     ]
    },
    {
     "data": {
      "text/html": [
       "<div>\n",
       "<style scoped>\n",
       "    .dataframe tbody tr th:only-of-type {\n",
       "        vertical-align: middle;\n",
       "    }\n",
       "\n",
       "    .dataframe tbody tr th {\n",
       "        vertical-align: top;\n",
       "    }\n",
       "\n",
       "    .dataframe thead th {\n",
       "        text-align: right;\n",
       "    }\n",
       "</style>\n",
       "<table border=\"1\" class=\"dataframe\">\n",
       "  <thead>\n",
       "    <tr style=\"text-align: right;\">\n",
       "      <th></th>\n",
       "      <th>1</th>\n",
       "      <th>2</th>\n",
       "      <th>3</th>\n",
       "      <th>4</th>\n",
       "    </tr>\n",
       "  </thead>\n",
       "  <tbody>\n",
       "    <tr>\n",
       "      <th>1</th>\n",
       "      <td>16.16</td>\n",
       "      <td>24.08</td>\n",
       "      <td>24.32</td>\n",
       "      <td>21.12</td>\n",
       "    </tr>\n",
       "    <tr>\n",
       "      <th>2</th>\n",
       "      <td>19.00</td>\n",
       "      <td>26.47</td>\n",
       "      <td>27.24</td>\n",
       "      <td>17.33</td>\n",
       "    </tr>\n",
       "    <tr>\n",
       "      <th>3</th>\n",
       "      <td>25.29</td>\n",
       "      <td>32.49</td>\n",
       "      <td>33.42</td>\n",
       "      <td>12.25</td>\n",
       "    </tr>\n",
       "    <tr>\n",
       "      <th>4</th>\n",
       "      <td>0.00</td>\n",
       "      <td>7.93</td>\n",
       "      <td>8.31</td>\n",
       "      <td>36.12</td>\n",
       "    </tr>\n",
       "    <tr>\n",
       "      <th>5</th>\n",
       "      <td>3.07</td>\n",
       "      <td>6.44</td>\n",
       "      <td>7.56</td>\n",
       "      <td>37.37</td>\n",
       "    </tr>\n",
       "  </tbody>\n",
       "</table>\n",
       "</div>"
      ],
      "text/plain": [
       "       1      2      3      4\n",
       "1  16.16  24.08  24.32  21.12\n",
       "2  19.00  26.47  27.24  17.33\n",
       "3  25.29  32.49  33.42  12.25\n",
       "4   0.00   7.93   8.31  36.12\n",
       "5   3.07   6.44   7.56  37.37"
      ]
     },
     "metadata": {},
     "output_type": "display_data"
    },
    {
     "name": "stdout",
     "output_type": "stream",
     "text": [
      "Shape of indexValues dataset :  (22, 1)\n"
     ]
    },
    {
     "data": {
      "text/html": [
       "<div>\n",
       "<style scoped>\n",
       "    .dataframe tbody tr th:only-of-type {\n",
       "        vertical-align: middle;\n",
       "    }\n",
       "\n",
       "    .dataframe tbody tr th {\n",
       "        vertical-align: top;\n",
       "    }\n",
       "\n",
       "    .dataframe thead th {\n",
       "        text-align: right;\n",
       "    }\n",
       "</style>\n",
       "<table border=\"1\" class=\"dataframe\">\n",
       "  <thead>\n",
       "    <tr style=\"text-align: right;\">\n",
       "      <th></th>\n",
       "      <th>indexValue</th>\n",
       "    </tr>\n",
       "  </thead>\n",
       "  <tbody>\n",
       "    <tr>\n",
       "      <th>0</th>\n",
       "      <td>0.1609</td>\n",
       "    </tr>\n",
       "    <tr>\n",
       "      <th>1</th>\n",
       "      <td>0.1164</td>\n",
       "    </tr>\n",
       "    <tr>\n",
       "      <th>2</th>\n",
       "      <td>0.1026</td>\n",
       "    </tr>\n",
       "    <tr>\n",
       "      <th>3</th>\n",
       "      <td>0.1516</td>\n",
       "    </tr>\n",
       "    <tr>\n",
       "      <th>4</th>\n",
       "      <td>0.0939</td>\n",
       "    </tr>\n",
       "  </tbody>\n",
       "</table>\n",
       "</div>"
      ],
      "text/plain": [
       "   indexValue\n",
       "0      0.1609\n",
       "1      0.1164\n",
       "2      0.1026\n",
       "3      0.1516\n",
       "4      0.0939"
      ]
     },
     "metadata": {},
     "output_type": "display_data"
    },
    {
     "name": "stdout",
     "output_type": "stream",
     "text": [
      "Shape of x' dataset :  (22, 4)\n"
     ]
    },
    {
     "data": {
      "text/html": [
       "<div>\n",
       "<style scoped>\n",
       "    .dataframe tbody tr th:only-of-type {\n",
       "        vertical-align: middle;\n",
       "    }\n",
       "\n",
       "    .dataframe tbody tr th {\n",
       "        vertical-align: top;\n",
       "    }\n",
       "\n",
       "    .dataframe thead th {\n",
       "        text-align: right;\n",
       "    }\n",
       "</style>\n",
       "<table border=\"1\" class=\"dataframe\">\n",
       "  <thead>\n",
       "    <tr style=\"text-align: right;\">\n",
       "      <th></th>\n",
       "      <th>1</th>\n",
       "      <th>2</th>\n",
       "      <th>3</th>\n",
       "      <th>4</th>\n",
       "    </tr>\n",
       "    <tr>\n",
       "      <th>x'ij</th>\n",
       "      <th></th>\n",
       "      <th></th>\n",
       "      <th></th>\n",
       "      <th></th>\n",
       "    </tr>\n",
       "  </thead>\n",
       "  <tbody>\n",
       "    <tr>\n",
       "      <th>1</th>\n",
       "      <td>0</td>\n",
       "      <td>0</td>\n",
       "      <td>0</td>\n",
       "      <td>1</td>\n",
       "    </tr>\n",
       "    <tr>\n",
       "      <th>2</th>\n",
       "      <td>0</td>\n",
       "      <td>0</td>\n",
       "      <td>0</td>\n",
       "      <td>1</td>\n",
       "    </tr>\n",
       "    <tr>\n",
       "      <th>3</th>\n",
       "      <td>0</td>\n",
       "      <td>0</td>\n",
       "      <td>0</td>\n",
       "      <td>1</td>\n",
       "    </tr>\n",
       "    <tr>\n",
       "      <th>4</th>\n",
       "      <td>1</td>\n",
       "      <td>0</td>\n",
       "      <td>0</td>\n",
       "      <td>0</td>\n",
       "    </tr>\n",
       "    <tr>\n",
       "      <th>5</th>\n",
       "      <td>1</td>\n",
       "      <td>0</td>\n",
       "      <td>0</td>\n",
       "      <td>0</td>\n",
       "    </tr>\n",
       "  </tbody>\n",
       "</table>\n",
       "</div>"
      ],
      "text/plain": [
       "      1  2  3  4\n",
       "x'ij            \n",
       "1     0  0  0  1\n",
       "2     0  0  0  1\n",
       "3     0  0  0  1\n",
       "4     1  0  0  0\n",
       "5     1  0  0  0"
      ]
     },
     "metadata": {},
     "output_type": "display_data"
    }
   ],
   "source": [
    "distances = pd.read_excel('distances.xlsx', index_col=0, skiprows=1, usecols=range(1, 6))\n",
    "print(\"Shape of distances dataset : \",distances.shape)\n",
    "display(distances.head())\n",
    "index_values = pd.read_excel('indexValues.xlsx', header=None, names=[\"indexValue\"], usecols=[1])\n",
    "print(\"Shape of indexValues dataset : \",index_values.shape)\n",
    "display(index_values.head())\n",
    "x_origin = pd.read_excel('x_origin.xlsx', index_col=0,skiprows=1, usecols=range(1, 6))\n",
    "print(\"Shape of x' dataset : \",x_origin.shape)\n",
    "display(x_origin.head())"
   ]
  },
  {
   "attachments": {},
   "cell_type": "markdown",
   "metadata": {},
   "source": [
    "# 1. Variables"
   ]
  },
  {
   "cell_type": "code",
   "execution_count": 1155,
   "metadata": {},
   "outputs": [],
   "source": [
    "def set_variables(index_values,distances):\n",
    "    num_bricks = len(index_values)\n",
    "    num_sr = len(distances.columns)\n",
    "\n",
    "    # Initialize solver\n",
    "    solver = pywraplp.Solver.CreateSolver('SCIP')\n",
    "    # Decision variables\n",
    "    assignment = [[solver.IntVar(0, 1, f'assignment_{i}_{j}') for j in range(num_sr)] for i in range(num_bricks)]\n",
    "\n",
    "    print(\"Number of brics : \", num_bricks)\n",
    "    print(\"Number of SR : \", num_sr)\n",
    "    return solver, assignment, num_bricks, num_sr"
   ]
  },
  {
   "attachments": {},
   "cell_type": "markdown",
   "metadata": {},
   "source": [
    "# 2. Constraints"
   ]
  },
  {
   "cell_type": "code",
   "execution_count": 1156,
   "metadata": {},
   "outputs": [],
   "source": [
    "\n",
    "def constraint_assignment_bricks(solver, assignment, num_bricks, num_sr):\n",
    "    # add a constraint on the columns ?\n",
    "    for i in range(num_bricks):\n",
    "        solver.Add(sum(assignment[i][j] for j in range(num_sr)) == 1)\n",
    "\n",
    "def constraint_max_sum_weights_sr(solver, assignment, num_bricks, num_sr, condition_interval):\n",
    "    for j in range(num_sr):\n",
    "        total_weight = solver.Sum(assignment[i][j] * index_values.iloc[i,0] for i in range(num_bricks))\n",
    "        solver.Add(total_weight >= min(condition_interval))\n",
    "        solver.Add(total_weight <= max(condition_interval))\n",
    "\n",
    "def apply_constraints(solver, assignment, index_values, num_bricks, num_sr, condition_interval):\n",
    "    # 1. Each brick is assigned to exactly nb_sr_to_assign SR\n",
    "    constraint_assignment_bricks(solver, assignment, num_bricks, num_sr)\n",
    "\n",
    "    # 2. Weight constraints for each SR (total weight between born_inf and born_sup)\n",
    "    constraint_max_sum_weights_sr(solver, assignment, num_bricks, num_sr, condition_interval)"
   ]
  },
  {
   "attachments": {},
   "cell_type": "markdown",
   "metadata": {},
   "source": [
    "# 3. Objective functions"
   ]
  },
  {
   "cell_type": "code",
   "execution_count": 1157,
   "metadata": {},
   "outputs": [],
   "source": [
    "# Objective function: minimize weighted distance + weight-based disruption penalty\n",
    "def get_objective_function(solver, assignment, x_origin, num_bricks, num_sr, penalty_constant):\n",
    "    objective = solver.Objective()\n",
    "    for i in range(num_bricks):\n",
    "        for j in range(num_sr):\n",
    "            # Weighted distance cost\n",
    "            distance_cost = distances.iloc[i,j]\n",
    "            \n",
    "            # Disruption penalty if reassigned to a different SR\n",
    "            if x_origin.iloc[i,j] == 0:\n",
    "                disruption_penalty = penalty_constant \n",
    "            else:\n",
    "                disruption_penalty = 0\n",
    "\n",
    "            # Total cost for assigning brick i to SR j\n",
    "            total_cost = distance_cost + disruption_penalty\n",
    "            objective.SetCoefficient(assignment[i][j], total_cost)\n",
    "\n",
    "    objective.SetMinimization()\n",
    "\n",
    "    return objective"
   ]
  },
  {
   "attachments": {},
   "cell_type": "markdown",
   "metadata": {},
   "source": [
    "# 4. Solve"
   ]
  },
  {
   "cell_type": "code",
   "execution_count": 1158,
   "metadata": {},
   "outputs": [],
   "source": [
    "def get_stats(assignment, num_sr, num_bricks, objective):\n",
    "    sr_weights = [0.0] * num_sr\n",
    "    sr_distances = [0.0] * num_sr\n",
    "    for j in range(num_sr):\n",
    "        sr_bricks = []\n",
    "        for i in range(num_bricks):\n",
    "            if assignment[i][j].solution_value() > 0.0:\n",
    "                sr_weights[j] += index_values.iloc[i,0] * assignment[i][j].solution_value()\n",
    "                sr_distances[j] += distances.iloc[i,j] \n",
    "                sr_bricks.append(i)\n",
    "        print(f\"SR {j+1} total weight is {round(sr_weights[j],2)} / total distances is {round(sr_distances[j],2)} / assigned bricks are {sr_bricks}\")\n",
    "    # Calculate the sum of (sum of weights per SR * sum of distances per SR)\n",
    "    total_distances = sum(sr_distances)\n",
    "    total_weighted_distance = sum(sr_weights[j] * sr_distances[j] for j in range(num_sr))\n",
    "    print('Sum of distances:', total_distances)\n",
    "    print('Sum of weighted distances:', total_weighted_distance)\n",
    "    print('Optimal Objective Value:', objective.Value())\n",
    "    \n",
    "def solve_print(solver, assignment, objective, num_bricks, num_sr):\n",
    "    # Solve the problem\n",
    "    status = solver.Solve()\n",
    "    # Print results\n",
    "    if status == pywraplp.Solver.OPTIMAL:\n",
    "        print('Solution found:')\n",
    "        get_stats(assignment, num_sr, num_bricks, objective)\n",
    "        \n",
    "    else:\n",
    "        print('No optimal solution found.')\n"
   ]
  },
  {
   "attachments": {},
   "cell_type": "markdown",
   "metadata": {},
   "source": [
    "# 5. Get Results"
   ]
  },
  {
   "cell_type": "code",
   "execution_count": 1159,
   "metadata": {},
   "outputs": [],
   "source": [
    "def get_results(distances,index_values, condition_interval, penalty_constant):\n",
    "    solver, assignment, num_bricks, num_sr = set_variables(index_values,distances)\n",
    "    apply_constraints(solver, assignment, index_values, num_bricks, num_sr, condition_interval)\n",
    "    objective = get_objective_function(solver, assignment, x_origin, num_bricks, num_sr, penalty_constant)\n",
    "    solve_print(solver, assignment, objective, num_bricks, num_sr)"
   ]
  },
  {
   "cell_type": "code",
   "execution_count": 1160,
   "metadata": {},
   "outputs": [
    {
     "name": "stdout",
     "output_type": "stream",
     "text": [
      "Number of brics :  22\n",
      "Number of SR :  4\n",
      "Solution found:\n",
      "SR 1 total weight is 1.04 / total distances is 64.37 / assigned bricks are [3, 4, 5, 6, 7, 8, 11, 18, 19]\n",
      "SR 2 total weight is 1.04 / total distances is 7.53 / assigned bricks are [10, 12, 13, 17]\n",
      "SR 3 total weight is 1.11 / total distances is 6.57 / assigned bricks are [9, 14, 15, 16]\n",
      "SR 4 total weight is 0.8 / total distances is 76.13 / assigned bricks are [0, 1, 2, 20, 21]\n",
      "Sum of distances: 154.6\n",
      "Sum of weighted distances: 143.09896\n",
      "Optimal Objective Value: 154.60000000000002\n"
     ]
    }
   ],
   "source": [
    "condition_interval = [0.8,1.2]\n",
    "penalty_constant = 0\n",
    "get_results(distances, index_values, condition_interval,penalty_constant)"
   ]
  },
  {
   "attachments": {},
   "cell_type": "markdown",
   "metadata": {},
   "source": [
    "# 6. Questions"
   ]
  },
  {
   "attachments": {},
   "cell_type": "markdown",
   "metadata": {},
   "source": [
    "### 6.1. Do the obtained solutions have properties that are worth bringing to the attention of the decision maker?"
   ]
  },
  {
   "attachments": {},
   "cell_type": "markdown",
   "metadata": {},
   "source": [
    "- **Total Weighted Distance**: The solution has a total weighted distance of approximately 143.1. This metric helps the decision maker understand the overall efficiency and cost of the current SR (Sales Representatives) allocation.\n",
    "\n",
    "- **Weight Balance**: Each SR has a total weight within the constraint interval (between 0.8 and 1.2), indicating a balanced workload. SRs 1, 2, and 3 are near the upper limit, while SR 4 is close to the minimum requirement.\n",
    "\n",
    "- **Distance Distribution**: SRs 1 and 4 have significantly higher total distances (64.37 and 76.13 respectively) compared to SRs 2 and 3 (7.53 and 6.57). This suggests that SRs 1 and 4 cover more geographically dispersed bricks, which may imply higher travel times or costs.\n",
    "\n",
    "- **Assignment of Bricks**: SRs are assigned a varied number of bricks, with SR 1 covering nine bricks while SR 2, 3, and 4 cover fewer. This indicates that some SRs may face higher workload concentration in certain areas, which could impact operational efficiency.\n",
    "\n",
    "- **Assignment distruption**: good metric to evaluate how much changes we have between each assignment"
   ]
  },
  {
   "attachments": {},
   "cell_type": "markdown",
   "metadata": {},
   "source": [
    "### 6.2. Discuss the properties of the current solution in comparison to other solutions obtained."
   ]
  },
  {
   "attachments": {},
   "cell_type": "markdown",
   "metadata": {},
   "source": [
    "- **Workload Distribution**: Compared to other solutions where the workload might not be as evenly distributed, this solution appears to have achieved a balance across SRs, ensuring that no SR is overwhelmed by an excessive workload.\n",
    "\n",
    "- **Distance Optimization**: By minimizing the weighted distance, this solution achieves a relatively low-cost allocation. However, if there are alternate solutions with slightly higher costs but more balanced distances across SRs, these could be considered for improved efficiency.\n",
    "\n",
    "- **Disruption Penalty**: This solution minimizes reassignment of bricks compared to the origin (x_origin) due to the disruption penalty applied. This minimizes costs associated with changing SR responsibilities."
   ]
  },
  {
   "attachments": {},
   "cell_type": "markdown",
   "metadata": {},
   "source": [
    "### 6.3. Varying workload is currently an objective taken into account in the form of constraints. We can get different sets of effective solutions and tradeoffs with other goals by tightening and relaxing this constraint. Try at least one interval and discuss the result (you can use [0.9, 1.1])"
   ]
  },
  {
   "cell_type": "code",
   "execution_count": 1161,
   "metadata": {},
   "outputs": [
    {
     "name": "stdout",
     "output_type": "stream",
     "text": [
      "Number of brics :  22\n",
      "Number of SR :  4\n",
      "Solution found:\n",
      "SR 1 total weight is 1.06 / total distances is 30.43 / assigned bricks are [3, 4, 5, 6, 7, 14, 18]\n",
      "SR 2 total weight is 1.08 / total distances is 28.8 / assigned bricks are [10, 11, 12, 13]\n",
      "SR 3 total weight is 0.96 / total distances is 14.4 / assigned bricks are [8, 9, 15, 16, 17]\n",
      "SR 4 total weight is 0.9 / total distances is 99.34 / assigned bricks are [0, 1, 2, 19, 20, 21]\n",
      "Sum of distances: 172.97\n",
      "Sum of weighted distances: 166.79111999999998\n",
      "Optimal Objective Value: 192.97\n"
     ]
    }
   ],
   "source": [
    "condition_interval = [0.9,1.1]\n",
    "penalty_constant = 10\n",
    "get_results(distances, index_values, condition_interval,penalty_constant)"
   ]
  },
  {
   "attachments": {},
   "cell_type": "markdown",
   "metadata": {},
   "source": [
    "SRs that were previously assigned workloads close to the upper and lower limits (like SR 4) will likely be forced to take on additional bricks or reduce their assigned bricks, shifting assignments more uniformly across SRs.\n",
    "This tighter constraint increases the total weighted distance since the model has fewer assignment options to minimize cost. If the workload becomes more balanced, some SRs may cover fewer distances overall, while others may need to take on more, resulting in a trade-off between cost and balanced distribution."
   ]
  },
  {
   "attachments": {},
   "cell_type": "markdown",
   "metadata": {},
   "source": [
    "### 6.4. How to model the case for partially assigning bricks (i.e. assign a brick to multiple SR)? Implement this and compare the results."
   ]
  },
  {
   "cell_type": "code",
   "execution_count": 1162,
   "metadata": {},
   "outputs": [],
   "source": [
    "  \n",
    "def set_variables(index_values,distances):\n",
    "    num_bricks = len(index_values)\n",
    "    num_sr = len(distances.columns)\n",
    "\n",
    "    # Initialize solver\n",
    "    solver = pywraplp.Solver.CreateSolver('SCIP')\n",
    "    # Decision variables\n",
    "    partial_assignment = [[solver.NumVar(0, 1, f'assignment_{i}_{j}') for j in range(num_sr)] for i in range(num_bricks)]\n",
    "\n",
    "    print(\"Number of brics : \", num_bricks)\n",
    "    print(\"Number of SR : \", num_sr)\n",
    "    return solver, partial_assignment, num_bricks, num_sr #, assignment"
   ]
  },
  {
   "cell_type": "code",
   "execution_count": 1163,
   "metadata": {},
   "outputs": [
    {
     "name": "stdout",
     "output_type": "stream",
     "text": [
      "Number of brics :  22\n",
      "Number of SR :  4\n",
      "Solution found:\n",
      "SR 1 total weight is 0.95 / total distances is 19.3 / assigned bricks are [3, 4, 5, 6, 7, 14]\n",
      "SR 2 total weight is 1.2 / total distances is 33.32 / assigned bricks are [9, 10, 11, 12, 13]\n",
      "SR 3 total weight is 0.84 / total distances is 12.12 / assigned bricks are [8, 13, 15, 16, 17]\n",
      "SR 4 total weight is 1.01 / total distances is 124.74 / assigned bricks are [0, 1, 2, 18, 19, 20, 21]\n",
      "Sum of distances: 189.48000000000002\n",
      "Sum of weighted distances: 194.13184200000006\n",
      "Optimal Objective Value: 204.59850311850312\n",
      "----------------------------------------------------------------------------------------------------\n"
     ]
    }
   ],
   "source": [
    "condition_interval = [0.8,1.2]\n",
    "penalty_constant = 100\n",
    "get_results(distances, index_values, condition_interval,penalty_constant)\n",
    "print('-'*100)"
   ]
  },
  {
   "attachments": {},
   "cell_type": "markdown",
   "metadata": {},
   "source": [
    "### 6.5.  If the demand increases uniformly in all bricks (for example + 20%, it may be necessary to hire a new sales representative. There is the question of where to locate his office (center brig)"
   ]
  },
  {
   "cell_type": "code",
   "execution_count": 1164,
   "metadata": {},
   "outputs": [],
   "source": [
    "x_origin['5'] = [0 for i in range(22)]"
   ]
  },
  {
   "cell_type": "code",
   "execution_count": 1165,
   "metadata": {},
   "outputs": [],
   "source": [
    "brick_to_brick = pd.read_excel(\"distances.xlsx\", sheet_name=[\"brick-brick\"],  index_col=0, skiprows=1, usecols=range(1, 24))\n",
    "brick_to_brick = brick_to_brick['brick-brick']"
   ]
  },
  {
   "cell_type": "code",
   "execution_count": 1166,
   "metadata": {},
   "outputs": [],
   "source": [
    "new_distances = brick_to_brick.to_numpy()"
   ]
  },
  {
   "cell_type": "code",
   "execution_count": 1167,
   "metadata": {},
   "outputs": [],
   "source": [
    "M = 100000\n",
    "epsilon = 1e-6"
   ]
  },
  {
   "cell_type": "code",
   "execution_count": 1168,
   "metadata": {},
   "outputs": [],
   "source": [
    "def set_variables(index_values,distances, num_sr):\n",
    "    num_bricks = len(index_values)\n",
    "\n",
    "    # Initialize solver\n",
    "    solver = pywraplp.Solver.CreateSolver('SCIP')\n",
    "    # Decision variables\n",
    "    assignment = [[solver.NumVar(0, 1, f'assignment_{i}_{j}') for j in range(num_sr)] for i in range(num_bricks)]\n",
    "    # use it for general cas\n",
    "    office_assignment = [solver.IntVar(0, 1, f'office_assignment_{i}') for i in range(num_bricks)]\n",
    "\n",
    "    print(\"Number of brics : \", num_bricks)\n",
    "    print(\"Number of SR : \", num_sr)\n",
    "    return solver, assignment, num_bricks, office_assignment"
   ]
  },
  {
   "cell_type": "code",
   "execution_count": 1169,
   "metadata": {},
   "outputs": [],
   "source": [
    "def constraint_assignment_center_office(solver, office_assignment, num_sr, already_assigned_offices_indices):\n",
    "    # only one office per sr\n",
    "    solver.Add(sum(office_assignment) == num_sr)\n",
    "    for i in already_assigned_offices_indices:\n",
    "        solver.Add(office_assignment[i] == 1)\n",
    "\n",
    "def apply_constraints(solver, assignment, office_assignment, index_values, num_bricks, num_sr, condition_interval, already_assigned_offices_indices):\n",
    "    # 1. Each brick is assigned to exactly nb_sr_to_assign SR\n",
    "    constraint_assignment_bricks(solver, assignment, num_bricks, num_sr)\n",
    "\n",
    "    # 2. Weight constraints for each SR (total weight between born_inf and born_sup)\n",
    "    constraint_max_sum_weights_sr(solver, assignment, num_bricks, num_sr, condition_interval)\n",
    "\n",
    "    # 3. Assignment of offices\n",
    "    constraint_assignment_center_office(solver, office_assignment, num_sr, already_assigned_offices_indices)"
   ]
  },
  {
   "cell_type": "code",
   "execution_count": 1170,
   "metadata": {},
   "outputs": [],
   "source": [
    "# Objective function: minimize weighted distance + weight-based disruption penalty + weighted office assignment\n",
    "def get_objective_function(solver, assignment, office_assignment, x_origin, num_bricks, num_sr, penalty_constant, distances):\n",
    "    objective = solver.Objective()\n",
    "    for j in range(num_sr):                \n",
    "        for center in range(num_bricks):\n",
    "            for i in range(num_bricks): \n",
    "                # Weighted distance cost\n",
    "                distance_cost = distances[center][i]\n",
    "                \n",
    "                # Disruption penalty if reassigned to a different SR\n",
    "                if x_origin.iloc[i,j] == 0:\n",
    "                    disruption_penalty = penalty_constant \n",
    "                else:\n",
    "                    disruption_penalty = 0\n",
    "\n",
    "                # Total cost for assigning brick i to SR j\n",
    "                total_cost = distance_cost + disruption_penalty\n",
    "                objective.SetCoefficient(assignment[i][j], total_cost)\n",
    "                objective.SetCoefficient(office_assignment[center], total_cost)\n",
    "\n",
    "    objective.SetMinimization()\n",
    "\n",
    "    return objective"
   ]
  },
  {
   "cell_type": "code",
   "execution_count": 1171,
   "metadata": {},
   "outputs": [],
   "source": [
    "\n",
    "def get_results(distances,index_values, num_sr, condition_interval, penalty_constant, already_assigned_offices_indices):\n",
    "    solver, assignment, num_bricks, office_assignment = set_variables(index_values,distances, num_sr)\n",
    "    apply_constraints(solver, assignment, office_assignment, index_values, num_bricks, num_sr, condition_interval, already_assigned_offices_indices)\n",
    "    objective = get_objective_function(solver, assignment, office_assignment, x_origin, num_bricks, num_sr, penalty_constant, distances)\n",
    "    solve_print(solver, assignment, office_assignment, objective, num_bricks, num_sr, distances)"
   ]
  },
  {
   "cell_type": "code",
   "execution_count": 1292,
   "metadata": {},
   "outputs": [],
   "source": [
    "def get_stats(assignment, office_assignment, num_sr, num_bricks, objective, distances):\n",
    "    sr_weights = []\n",
    "    sr_distances = []\n",
    "\n",
    "    centers = []\n",
    "    all_assignments = []\n",
    "    ## calculate center\n",
    "    # get assignment for sr\n",
    "    # get distances from all centers \n",
    "    for sr in range(num_sr):\n",
    "        list_asignment, candidates_for_assign, assignment_values = [], [], []\n",
    "        for b in range(num_bricks):\n",
    "            if assignment[b][sr].solution_value() > 0.0:\n",
    "                list_asignment.append(b)\n",
    "                assignment_values.append(assignment[b][sr].solution_value())\n",
    "                if office_assignment[b].solution_value() == 1 :\n",
    "                    candidates_for_assign.append(b)\n",
    "            \n",
    "            if office_assignment[b].solution_value() == 1 and sr == 0:\n",
    "                centers.append(b)\n",
    "\n",
    "        all_assignments.append((list_asignment, candidates_for_assign, assignment_values))\n",
    "    # center in assignment\n",
    "    def attribute_center(all_assignments, cleaned_assignments, centers, stop=5):\n",
    "        if stop == 0 or all_assignments == []:\n",
    "            return cleaned_assignments\n",
    "\n",
    "        to_delete = [all_assignments[i] for i in range(len(all_assignments)) if len(all_assignments[i][1]) == 1] \n",
    "        center_assigned = [i[1][0] for i in to_delete]\n",
    "        centers = [i for i in centers if i not in center_assigned]\n",
    "        cleaned_assignments.extend(to_delete)\n",
    "        all_assignments =  [all_assignments[i]  for i in range(len(all_assignments)) if len(all_assignments[i][1]) != 1]\n",
    "\n",
    "\n",
    "        for i in range(len(to_delete)):\n",
    "            for j in range(len(all_assignments)):\n",
    "                if to_delete[i][1][0] in all_assignments[j][1]:\n",
    "                    all_assignments[j][1].remove(to_delete[i][1][0])\n",
    "        \n",
    "        return attribute_center(all_assignments, cleaned_assignments, centers, stop = stop - 1)\n",
    "    # print(centers) \n",
    "    # print(all_assignments)\n",
    "    center_assignments = attribute_center(all_assignments, [], centers)\n",
    "    for center in range(num_sr):\n",
    "        sr_weight = 0\n",
    "        sr_distance = 0\n",
    "        for i in range(len(center_assignments[center][0])):\n",
    "            # print(f\"assignment: {center_assignments[center][2][i]}\")\n",
    "            # print(f\"center: {center_assignments[center][1]}\")\n",
    "            sr_weight += index_values.iloc[center_assignments[center][0][i], 0] * center_assignments[center][2][i]\n",
    "            sr_distance += distances[center_assignments[center][1][0]][center_assignments[center][0][i]] \n",
    "        sr_weights.append(sr_weight)\n",
    "        sr_distances.append(sr_distance)\n",
    "        print(f\"SR {center+1} total weight is {round(sr_weights[center],2)} / total distances is {round(sr_distances[center],2)} / assigned bricks are {(center_assignments[center][0])} with center brick {center_assignments[center][1][0]}\")\n",
    "\n",
    "    # Calculate the sum of (sum of weights per SR * sum of distances per SR)\n",
    "    total_distances = sum(sr_distances)\n",
    "    total_weighted_distance = sum(sr_weights[j] * sr_distances[j] for j in range(num_sr))\n",
    "    print('Sum of distances:', total_distances)\n",
    "    print('Sum of weighted distances:', total_weighted_distance)\n",
    "    print('Optimal Objective Value:', objective.Value())\n",
    "    \n",
    "def solve_print(solver, assignment, office_assignment, objective, num_bricks, num_sr, distances):\n",
    "    # Solve the problem\n",
    "    status = solver.Solve()\n",
    "    # Print results\n",
    "    if status == pywraplp.Solver.OPTIMAL:\n",
    "        print('Solution found:')\n",
    "        get_stats(assignment, office_assignment, num_sr, num_bricks, objective, distances)\n",
    "        \n",
    "    else:\n",
    "        print('No optimal solution found.')\n"
   ]
  },
  {
   "cell_type": "code",
   "execution_count": 1173,
   "metadata": {},
   "outputs": [],
   "source": [
    "index_values = index_values * 1.2"
   ]
  },
  {
   "cell_type": "code",
   "execution_count": 1174,
   "metadata": {},
   "outputs": [
    {
     "name": "stdout",
     "output_type": "stream",
     "text": [
      "Number of brics :  22\n",
      "Number of SR :  5\n",
      "Solution found:\n",
      "SR 1 total weight is 1.14 / total distances is 19.3 / assigned bricks are [3, 4, 5, 6, 7, 14] with center brick 3\n",
      "SR 2 total weight is 0.81 / total distances is 33.32 / assigned bricks are [9, 10, 11, 12, 13] with center brick 13\n",
      "SR 3 total weight is 0.85 / total distances is 9.99 / assigned bricks are [8, 15, 16, 17] with center brick 15\n",
      "SR 4 total weight is 0.8 / total distances is 43.75 / assigned bricks are [13, 21] with center brick 21\n",
      "SR 5 total weight is 1.2 / total distances is 72.89 / assigned bricks are [0, 1, 2, 18, 19, 20, 21] with center brick 2\n",
      "Sum of distances: 179.2474570907326\n",
      "Sum of weighted distances: 180.03563177965395\n",
      "Optimal Objective Value: 1463.9829059574108\n"
     ]
    }
   ],
   "source": [
    "num_sr = 5\n",
    "already_assigned_offices_indices = np.where(distances == 0)[0]\n",
    "condition_interval = [0.8,1.2]\n",
    "penalty_constant = 100\n",
    "get_results(new_distances, index_values, num_sr, condition_interval,penalty_constant, already_assigned_offices_indices)"
   ]
  },
  {
   "attachments": {},
   "cell_type": "markdown",
   "metadata": {},
   "source": [
    "### 6.6.  The location of the \"center bricks\" (SR offices) has a significant impact on the distance traveled by the SRs. An important question is to generalize the model so as to allow a modification of the \"center bricks\"; this requires considering additional binary variables. (It should be noted that some of the bricks are not good candidates as a \"center brig\", which makes it possible to reduce the number of variables)."
   ]
  },
  {
   "cell_type": "code",
   "execution_count": 1178,
   "metadata": {},
   "outputs": [],
   "source": [
    "def constraint_assignment_center_office(solver, office_assignment, assignment, num_sr, num_bricks):\n",
    "    # only one office per sr\n",
    "    solver.Add(sum(office_assignment) == num_sr)\n",
    "    # for j in range(num_sr):\n",
    "    #     solver.Add(sum(assignment[i][j] * office_assignment[i] for i in range(num_bricks)) > 0)\n",
    "\n",
    "def apply_constraints(solver, assignment, office_assignment, index_values, num_bricks, num_sr, condition_interval):\n",
    "    # 1. Each brick is assigned to exactly nb_sr_to_assign SR\n",
    "    constraint_assignment_bricks(solver, assignment, num_bricks, num_sr)\n",
    "\n",
    "    # 2. Weight constraints for each SR (total weight between born_inf and born_sup)\n",
    "    constraint_max_sum_weights_sr(solver, assignment, num_bricks, num_sr, condition_interval)\n",
    "\n",
    "    # 3. Assignment of offices\n",
    "    constraint_assignment_center_office(solver, office_assignment, assignment, num_sr, num_bricks)"
   ]
  },
  {
   "cell_type": "code",
   "execution_count": 1179,
   "metadata": {},
   "outputs": [],
   "source": [
    "def get_results(distances,index_values, num_sr, condition_interval, penalty_constant):\n",
    "    solver, assignment_value, num_bricks, office_assignment, assignment = set_variables(index_values,distances, num_sr)\n",
    "    apply_constraints(solver, assignment, office_assignment, index_values, num_bricks, num_sr, condition_interval, already_assigned_offices_indices, assignment_value)\n",
    "    objective = get_objective_function(solver, assignment, office_assignment, x_origin, num_bricks, num_sr, penalty_constant, distances)\n",
    "    solve_print(solver, assignment_value, office_assignment, objective, num_bricks, num_sr, distances)"
   ]
  },
  {
   "cell_type": "code",
   "execution_count": 1180,
   "metadata": {},
   "outputs": [
    {
     "name": "stdout",
     "output_type": "stream",
     "text": [
      "Number of brics :  22\n",
      "Number of SR :  5\n"
     ]
    },
    {
     "ename": "ValueError",
     "evalue": "not enough values to unpack (expected 5, got 4)",
     "output_type": "error",
     "traceback": [
      "\u001b[0;31m---------------------------------------------------------------------------\u001b[0m",
      "\u001b[0;31mValueError\u001b[0m                                Traceback (most recent call last)",
      "Cell \u001b[0;32mIn[1180], line 4\u001b[0m\n\u001b[1;32m      2\u001b[0m condition_interval \u001b[39m=\u001b[39m [\u001b[39m0.8\u001b[39m,\u001b[39m1.2\u001b[39m]\n\u001b[1;32m      3\u001b[0m penalty_constant \u001b[39m=\u001b[39m \u001b[39m100\u001b[39m\n\u001b[0;32m----> 4\u001b[0m get_results(new_distances, index_values, num_sr, condition_interval,penalty_constant)\n",
      "Cell \u001b[0;32mIn[1179], line 2\u001b[0m, in \u001b[0;36mget_results\u001b[0;34m(distances, index_values, num_sr, condition_interval, penalty_constant)\u001b[0m\n\u001b[1;32m      1\u001b[0m \u001b[39mdef\u001b[39;00m \u001b[39mget_results\u001b[39m(distances,index_values, num_sr, condition_interval, penalty_constant):\n\u001b[0;32m----> 2\u001b[0m     solver, assignment_value, num_bricks, office_assignment, assignment \u001b[39m=\u001b[39m set_variables(index_values,distances, num_sr)\n\u001b[1;32m      3\u001b[0m     apply_constraints(solver, assignment, office_assignment, index_values, num_bricks, num_sr, condition_interval, already_assigned_offices_indices, assignment_value)\n\u001b[1;32m      4\u001b[0m     objective \u001b[39m=\u001b[39m get_objective_function(solver, assignment, office_assignment, x_origin, num_bricks, num_sr, penalty_constant, distances)\n",
      "\u001b[0;31mValueError\u001b[0m: not enough values to unpack (expected 5, got 4)"
     ]
    }
   ],
   "source": [
    "num_sr = 5\n",
    "condition_interval = [0.8,1.2]\n",
    "penalty_constant = 100\n",
    "get_results(new_distances, index_values, num_sr, condition_interval,penalty_constant)"
   ]
  },
  {
   "attachments": {},
   "cell_type": "markdown",
   "metadata": {},
   "source": [
    "To generalize the model by allowing SR office relocations, we have to:\n",
    "\n",
    "- **Add Binary Variables**: Introduce binary variables to indicate the selection of certain bricks as new SR centers. Not all bricks are candidates, so restrict the variable to a subset of bricks that are potential centers.\n",
    "\n",
    "- **Objective Function Adjustment**: Incorporate the distances from each brick to the selected SR centers, modifying the objective to minimize both weighted distance and potential disruption penalties due to reassignment. With this the model can adapt dynamically to changes in demand and geography by choosing optimal SR office locations, potentially lowering travel distances and improving response times.\n",
    "\n",
    "Each modification builds on the initial model to address different logistical scenarios, improving operational efficiency under changing conditions."
   ]
  },
  {
   "attachments": {},
   "cell_type": "markdown",
   "metadata": {},
   "source": [
    "### 6.7  How to incorporate in the model the SRs' preferences for their area?"
   ]
  },
  {
   "cell_type": "code",
   "execution_count": 1293,
   "metadata": {},
   "outputs": [
    {
     "name": "stdout",
     "output_type": "stream",
     "text": [
      "[ 3 13 15]\n"
     ]
    }
   ],
   "source": [
    "num_sr = 5\n",
    "already_assigned_offices_indices = np.where(distances == 0)[0]\n",
    "already_assigned_offices_indices = np.delete(already_assigned_offices_indices, 3)\n",
    "print(already_assigned_offices_indices)"
   ]
  },
  {
   "cell_type": "code",
   "execution_count": 1294,
   "metadata": {},
   "outputs": [],
   "source": [
    "office_preferences = [[0.2, 0.3, 0.4, 0, 0, 0, 0.5, 0.6, 0, 0, 0, 0, 0, 0, 0, 0, 0, 0, 0, 0, 0, 0], [0] * 22, [0] * 22, [0] * 22, [0] * 22] # format len num_bricks\n",
    "office_preferences[1][2] = 0.8\n",
    "office_preferences[1][18] = 0.5\n",
    "office_preferences[1][19] = 0.5\n",
    "office_preferences[1][20] = 0.5\n",
    "office_preferences[1][21] = 0.3"
   ]
  },
  {
   "cell_type": "code",
   "execution_count": 1295,
   "metadata": {},
   "outputs": [],
   "source": [
    "def set_variables(index_values,distances, num_sr):\n",
    "    num_bricks = len(index_values)\n",
    "\n",
    "    # Initialize solver\n",
    "    solver = pywraplp.Solver.CreateSolver('SCIP')\n",
    "    # Decision variables\n",
    "    assignment = [[solver.NumVar(0, 1, f'assignment_{i}_{j}') for j in range(num_sr)] for i in range(num_bricks)]\n",
    "    # use it for general cas\n",
    "    office_assignment = [solver.IntVar(0, 1, f'office_assignment_{i}') for i in range(num_bricks)]\n",
    "    office_assignment_final = [solver.IntVar(0, 1, f'office_assignment_w_preference_{i}') for i in range(num_bricks)]\n",
    "\n",
    "    print(\"Number of brics : \", num_bricks)\n",
    "    print(\"Number of SR : \", num_sr)\n",
    "    return solver, assignment, num_bricks, office_assignment, office_assignment_final"
   ]
  },
  {
   "cell_type": "code",
   "execution_count": 1296,
   "metadata": {},
   "outputs": [],
   "source": [
    "def constraint_assignment_center_office(solver, office_assignment, assignment, num_sr, num_bricks, already_assigned_offices_indices, office_assignment_final, office_preferences):\n",
    "    # only one office per sr\n",
    "    solver.Add(sum(office_assignment) == num_sr)\n",
    "    # for j in range(num_sr):\n",
    "    #     total_weight = solver.Sum(assignment[i][j] * index_values.iloc[i,0] for i in range(num_bricks))\n",
    "    for i in range(num_bricks):\n",
    "        for j in range(num_sr):\n",
    "            # Linearization of product for binary variables\n",
    "            solver.Add(office_assignment_final[i] <= office_assignment[i])\n",
    "            solver.Add(office_assignment_final[i] <= office_preferences[j][i])\n",
    "            solver.Add(office_assignment_final[i] >= office_assignment[i] + office_preferences[j][i] - 2)\n",
    "\n",
    "\n",
    "            # solver.Add(sum(office_assignment_final[j]) == sum(office_preferences[j][i] * office_assignment[i]))\n",
    "    # solver.Add(sum(office_assignment_final[j][i] for j in range(num_sr) for i in range(num_bricks)) == sum(office_assignment[i] * office_preferences[j][i] for j in range(num_sr) for i in range(num_bricks)))\n",
    "    for i in already_assigned_offices_indices:\n",
    "        solver.Add(office_assignment[i] == 1)\n",
    "    # for j in range(num_sr):\n",
    "    #     solver.Add(sum(assignment[i][j] * office_assignment[i] for i in range(num_bricks)) > 0)\n",
    "\n",
    "def apply_constraints(solver, assignment, office_assignment, index_values, num_bricks, num_sr, condition_interval, already_assigned_offices_indices, office_assignment_final, office_preferences):\n",
    "    # 1. Each brick is assigned to exactly nb_sr_to_assign SR\n",
    "    constraint_assignment_bricks(solver, assignment, num_bricks, num_sr)\n",
    "\n",
    "    # 2. Weight constraints for each SR (total weight between born_inf and born_sup)\n",
    "    constraint_max_sum_weights_sr(solver, assignment, num_bricks, num_sr, condition_interval)\n",
    "\n",
    "    # 3. Assignment of offices\n",
    "    constraint_assignment_center_office(solver, office_assignment, assignment, num_sr, num_bricks, already_assigned_offices_indices, office_assignment_final, office_preferences)"
   ]
  },
  {
   "cell_type": "code",
   "execution_count": 1297,
   "metadata": {},
   "outputs": [],
   "source": [
    "# Objective function: minimize weighted distance + weight-based disruption penalty + weighted office assignment\n",
    "def get_objective_function(solver, assignment, office_assignment, x_origin, num_bricks, num_sr, penalty_constant, distances, office_preferences):\n",
    "    objective = solver.Objective()\n",
    "    for j in range(num_sr):                \n",
    "        for center in range(num_bricks):\n",
    "            for i in range(num_bricks): \n",
    "                # Weighted distance cost\n",
    "                distance_cost = distances[center][i]\n",
    "                \n",
    "                # Disruption penalty if reassigned to a different SR\n",
    "                if x_origin.iloc[i,j] == 0:\n",
    "                    disruption_penalty = penalty_constant \n",
    "                else:\n",
    "                    disruption_penalty = 0\n",
    "\n",
    "                # Total cost for assigning brick i to SR j\n",
    "                total_cost = distance_cost + disruption_penalty\n",
    "                objective.SetCoefficient(assignment[i][j], total_cost)\n",
    "                objective.SetCoefficient(office_assignment[center], total_cost)\n",
    "\n",
    "    objective.SetMinimization()\n",
    "\n",
    "    return objective"
   ]
  },
  {
   "cell_type": "code",
   "execution_count": 1298,
   "metadata": {},
   "outputs": [],
   "source": [
    "def get_results(distances,index_values, num_sr, condition_interval, penalty_constant, office_preferences):\n",
    "    solver, assignment, num_bricks, office_assignment, office_assignment_final = set_variables(index_values,distances, num_sr)\n",
    "    apply_constraints(solver, assignment, office_assignment, index_values, num_bricks, num_sr, condition_interval, already_assigned_offices_indices, office_assignment_final, office_preferences)\n",
    "    objective = get_objective_function(solver, assignment, office_assignment, x_origin, num_bricks, num_sr, penalty_constant, distances, office_preferences)\n",
    "    solve_print(solver, assignment, office_assignment, objective, num_bricks, num_sr, distances)"
   ]
  },
  {
   "cell_type": "code",
   "execution_count": 1299,
   "metadata": {},
   "outputs": [
    {
     "name": "stdout",
     "output_type": "stream",
     "text": [
      "Number of brics :  22\n",
      "Number of SR :  5\n",
      "Solution found:\n",
      "SR 1 total weight is 1.14 / total distances is 19.3 / assigned bricks are [3, 4, 5, 6, 7, 14] with center brick 3\n",
      "SR 2 total weight is 0.81 / total distances is 33.32 / assigned bricks are [9, 10, 11, 12, 13] with center brick 13\n",
      "SR 3 total weight is 0.85 / total distances is 9.99 / assigned bricks are [8, 15, 16, 17] with center brick 15\n",
      "SR 4 total weight is 0.8 / total distances is 43.75 / assigned bricks are [13, 21] with center brick 21\n",
      "SR 5 total weight is 1.2 / total distances is 72.89 / assigned bricks are [0, 1, 2, 18, 19, 20, 21] with center brick 2\n",
      "Sum of distances: 179.2474570907326\n",
      "Sum of weighted distances: 180.03563177965395\n",
      "Optimal Objective Value: 1463.9829059574113\n"
     ]
    }
   ],
   "source": [
    "num_sr = 5\n",
    "condition_interval = [0.8,1.2]\n",
    "penalty_constant = 100\n",
    "get_results(new_distances, index_values, num_sr, condition_interval,penalty_constant, office_preferences)"
   ]
  },
  {
   "attachments": {},
   "cell_type": "markdown",
   "metadata": {},
   "source": [
    "To incorporate SRs' area preferences, we could add:\n",
    "\n",
    "- **Preference Penalty in Objective Function**: Add a penalty to the objective for assignments that do not match SRs’ preferences, encouraging alignment without imposing hard constraints.\n",
    "\n",
    "- **Weighted Assignments**: Assign weights to bricks based on SRs' preferences, prioritizing preferred areas."
   ]
  },
  {
   "attachments": {},
   "cell_type": "markdown",
   "metadata": {},
   "source": []
  },
  {
   "attachments": {},
   "cell_type": "markdown",
   "metadata": {},
   "source": []
  }
 ],
 "metadata": {
  "kernelspec": {
   "display_name": "Python 3",
   "language": "python",
   "name": "python3"
  },
  "language_info": {
   "codemirror_mode": {
    "name": "ipython",
    "version": 3
   },
   "file_extension": ".py",
   "mimetype": "text/x-python",
   "name": "python",
   "nbconvert_exporter": "python",
   "pygments_lexer": "ipython3",
   "version": "3.12.6"
  }
 },
 "nbformat": 4,
 "nbformat_minor": 2
}
